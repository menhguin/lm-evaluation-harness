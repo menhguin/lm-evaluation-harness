{
  "cells": [
    {
      "cell_type": "markdown",
      "metadata": {
        "id": "cFLcmAxK7aYW"
      },
      "source": [
        "# LLM Evaluation\n",
        "\n",
        "In this notebook, we'll use the [language model evaluation harness](https://github.com/EleutherAI/lm-evaluation-harness)\n",
        "utility built by EleutherAI to evaluate our model on a suite of different tasks."
      ]
    },
    {
      "cell_type": "markdown",
      "metadata": {
        "id": "qsKt8d6TVnC_"
      },
      "source": [
        "#Step 1. Install EleutherAI Evaluations Harness\n",
        "*   Logging into WandB is optional.\n",
        "*   Logging into Huggingface API is required to run GPQA. This is to prevent database leakage."
      ]
    },
    {
      "cell_type": "code",
      "execution_count": null,
      "metadata": {
        "id": "S7G1cecrmr87"
      },
      "outputs": [],
      "source": [
        "import os\n",
        "import huggingface_hub\n",
        "from google.colab import userdata\n",
        "\n",
        "# Install latest versions of necessary libraries\n",
        "!pip install vllm\n",
        "!pip install -e git+https://github.com/menhguin/lm-evaluation-harness.git#egg=lm_eval[wandb,vllm] # skip if you don't want to use wandb to log results"
      ]
    },
    {
      "cell_type": "markdown",
      "metadata": {
        "id": "RxtRDlDfA_P7"
      },
      "source": [
        "Automated login for Hugging Face Hub via Colab Secrets. If you don't have this, it'll prompt for manual login if you don't have one. If you completely remove this, you can't run GPQA or use Llama models via HF."
      ]
    },
    {
      "cell_type": "code",
      "execution_count": null,
      "metadata": {
        "id": "WKZucZXIA97D"
      },
      "outputs": [],
      "source": [
        "# Check for Huggingface API key and log in if available, otherwise prompt for manual login\n",
        "hf_token = userdata.get('HF_READ_TOKEN')\n",
        "if hf_token:\n",
        "    huggingface_hub.login(hf_token)\n",
        "else:\n",
        "    print(\"Huggingface token not found. Please login manually.\")\n",
        "    !huggingface-cli login"
      ]
    },
    {
      "cell_type": "markdown",
      "metadata": {
        "id": "BBpgeHaLStRb"
      },
      "source": [
        "Automated login for WandB via Colab Secrets. If you don't have this, it'll just prompt you later if you use wandb_args."
      ]
    },
    {
      "cell_type": "code",
      "execution_count": null,
      "metadata": {
        "id": "lzNKgAPISUwK"
      },
      "outputs": [],
      "source": [
        "# Check for WandB API key and log in if available, otherwise skip login\n",
        "wandb_token = userdata.get('WANDB_API_KEY')\n",
        "if wandb_token:\n",
        "    os.environ[\"WANDB_API_KEY\"] = wandb_token\n",
        "    import wandb\n",
        "    wandb.login()\n",
        "else:\n",
        "    print(\"WandB token not found. Continuing without logging into WandB.\")"
      ]
    },
    {
      "cell_type": "markdown",
      "metadata": {
        "id": "XO2k7iaKWjbr"
      },
      "source": [
        "#Step 2. Run selected evals\n",
        "Change parameters as preferred:\n",
        "\n",
        "*   **Top P:** Lower values are more selective. It is recommended to use Top P = 0.9-0.95. - *E.g. Top P = 0.9 means using the fewest tokens that make up 90% of the probability distribution, and the remaining ~10% is truncated.*\n",
        "*   **Min P:** Lower values are less selective. It is recommended to use Min P = 0.05-0.1. - *E.g. Min P = 0.1 means every token where P < 10% of P(most probable token) is truncated.*\n",
        "*   **Temperature scaling:** Usually only 0 to 1 produces coherent output with Top P, but Min P allows good outputs until 3-5!"
      ]
    },
    {
      "cell_type": "markdown",
      "metadata": {
        "id": "dWMLyPpPWQSK"
      },
      "source": [
        "## A. GPQA Main Generative (5-shot)"
      ]
    },
    {
      "cell_type": "code",
      "execution_count": null,
      "metadata": {
        "id": "Js1B5DdFeR0u"
      },
      "outputs": [],
      "source": [
        "sampler = \"min_p\"\n",
        "sampler_value = \"0.1\"\n",
        "tasks = \"gpqa_main_generative_n_shot\"\n",
        "model = \"vllm\"\n",
        "model_args = \"meta-llama/Llama-3.2-1B-Instruct\"\n",
        "num_fewshot = \"5\""
      ]
    },
    {
      "cell_type": "code",
      "execution_count": null,
      "metadata": {
        "id": "F4Xrw41nxz0P"
      },
      "outputs": [],
      "source": [
        "temperature = 1\n",
        "\n",
        "!lm_eval \\\n",
        "    --model {model} \\\n",
        "    --model_args pretrained={model_args},dtype=auto \\\n",
        "    --batch_size \"auto\" \\\n",
        "    --tasks {tasks} \\\n",
        "    --num_fewshot {num_fewshot} \\\n",
        "    --log_samples \\\n",
        "    --output_path ./lm-eval-output/ \\\n",
        "    --gen_kwargs {sampler}={sampler_value},temperature={temperature},do_sample=True \\\n",
        "    --wandb_args project=lm-eval-harness-integration,name={tasks}_{sampler}_{sampler_value}_temp_{temperature}_{model}_{model_args.replace('/', '_')} \\\n",
        "    --device cuda\n",
        "\n",
        "#remove wandb_args if you don't already have/don't want to use WandB"
      ]
    },
    {
      "cell_type": "markdown",
      "metadata": {
        "id": "-qdo4fL_DXSG"
      },
      "source": [
        "## B1. GSM8K Chain-of-Thought (8-shot) - Loop\n",
        "I think you still have to run each of these at least once without the loop for the install to work."
      ]
    },
    {
      "cell_type": "code",
      "execution_count": null,
      "metadata": {
        "colab": {
          "background_save": true
        },
        "id": "YZ4M3CfEDXSG"
      },
      "outputs": [],
      "source": [
        "import os\n",
        "\n",
        "# Hardcoded list of tasks\n",
        "tasks = [\n",
        "    \"gsm8k_cot_llama\",\n",
        "    \"gsm8k_alt_blank_answers\",\n",
        "    \"gsm8k_alt_unk_answers\",\n",
        "    \"gsm8k_alt_blank_numbers\",\n",
        "    \"gsm8k_alt_phd_math\",\n",
        "    \"gsm8k_alt_prose\",\n",
        "    \"gsm8k_alt_stem_conceptual\"\n",
        "]\n",
        "\n",
        "model = \"vllm\"\n",
        "num_fewshot = \"8\"\n",
        "model_args_list = [\n",
        "    \"meta-llama/Llama-3.2-1B-Instruct\",\n",
        "    \"meta-llama/Llama-3.2-3B-Instruct\",\n",
        "    \"meta-llama/Llama-3.1-8B-Instruct\"\n",
        "]\n",
        "\n",
        "print(f\"Tasks to evaluate: {tasks}\")\n",
        "\n",
        "# Loop through each combination\n",
        "for model_args in model_args_list:\n",
        "    for task in tasks:\n",
        "        command = f\"\"\"\n",
        "        lm_eval \\\\\n",
        "        --model {model} \\\\\n",
        "        --model_args pretrained={model_args},dtype=auto \\\\\n",
        "        --batch_size auto \\\\\n",
        "        --tasks {task} \\\\\n",
        "        --num_fewshot {num_fewshot} \\\\\n",
        "        --apply_chat_template \\\\\n",
        "        --fewshot_as_multiturn \\\\\n",
        "        --log_samples \\\\\n",
        "        --output_path ./lm-eval-output/{task}/ \\\\\n",
        "        --gen_kwargs temperature=1,do_sample=True \\\\\n",
        "        --wandb_args project=lm-eval-harness-integration,name={task}_{model}_{model_args.replace('/', '_')} \\\\\n",
        "        --device cuda\n",
        "        \"\"\"\n",
        "        print(f\"\\nRunning evaluation:\\nModel: {model_args}\\nTask: {task}\\n\")\n",
        "        os.system(command)"
      ]
    },
    {
      "cell_type": "code",
      "execution_count": null,
      "metadata": {
        "id": "0w3PzTtwVTW1"
      },
      "outputs": [],
      "source": [
        "# Loop through each combination of model_args, task, sampler_value, and temperature\n",
        "for model_args in model_args_list:\n",
        "    for task in tasks:\n",
        "          for temperature in temperature_values:\n",
        "              # Construct the command as a single string\n",
        "              command = f\"\"\"\n",
        "              lm_eval \\\\\n",
        "              --model {model} \\\\\n",
        "              --model_args pretrained={model_args},dtype=auto \\\\\n",
        "              --batch_size auto \\\\\n",
        "              --tasks {task} \\\\\n",
        "              --num_fewshot {num_fewshot} \\\\\n",
        "              --apply_chat_template \\\\\n",
        "              --fewshot_as_multiturn \\\\\n",
        "              --log_samples \\\\\n",
        "              --output_path ./lm-eval-output/ \\\\\n",
        "              --gen_kwargs temperature={temperature},do_sample=True \\\\\n",
        "              --wandb_args project=lm-eval-harness-integration,name=8SHOT{task}_temp_{temperature}_{model}_{model_args.replace('/', '_')} \\\\\n",
        "              --device cuda\n",
        "              \"\"\"\n",
        "              print(f\"Running command with model_args={model_args}, task={task}, temperature={temperature}\")\n",
        "\n",
        "\n",
        "              # Execute the command\n",
        "              os.system(command)"
      ]
    },
    {
      "cell_type": "markdown",
      "metadata": {
        "id": "evYL71Q7Mwi7"
      },
      "source": [
        "## B1. GSM8K Chain-of-Thought (8-shot) - Loop\n",
        "I think you still have to run each of these at least once without the loop for the install to work."
      ]
    },
    {
      "cell_type": "code",
      "execution_count": null,
      "metadata": {
        "id": "k13vddk1Mwi9"
      },
      "outputs": [],
      "source": [
        "# Define parameters\n",
        "tasks = [\"gsm8k_cot_llama\"]\n",
        "model = \"vllm\"\n",
        "num_fewshot = \"8\"\n",
        "model_args_list = [\"meta-llama/Llama-3.1-8B-Instruct\"]  # Add different model args here\n",
        "temperature_values = [1]\n",
        "\n",
        "# Note that gsm8k_cot_llama with apply_chat_template and fewshot_as_multiturn are needed to replicate llama 3 Instruct benchmarks"
      ]
    },
    {
      "cell_type": "code",
      "execution_count": null,
      "metadata": {
        "id": "pG3wrYAoMwi-"
      },
      "outputs": [],
      "source": [
        "# Loop through each combination of model_args, task, sampler_value, and temperature\n",
        "for model_args in model_args_list:\n",
        "    for task in tasks:\n",
        "          for temperature in temperature_values:\n",
        "              # Construct the command as a single string\n",
        "              command = f\"\"\"\n",
        "              lm_eval \\\\\n",
        "              --model {model} \\\\\n",
        "              --model_args pretrained={model_args},dtype=auto \\\\\n",
        "              --batch_size auto \\\\\n",
        "              --tasks {task} \\\\\n",
        "              --num_fewshot {num_fewshot} \\\\\n",
        "              --apply_chat_template \\\\\n",
        "              --fewshot_as_multiturn \\\\\n",
        "              --log_samples \\\\\n",
        "              --output_path ./lm-eval-output/ \\\\\n",
        "              --gen_kwargs temperature={temperature},do_sample=True \\\\\n",
        "              --wandb_args project=lm-eval-harness-integration,name=8SHOT{task}_temp_{temperature}_{model}_{model_args.replace('/', '_')} \\\\\n",
        "              --device cuda\n",
        "              \"\"\"\n",
        "              print(f\"Running command with model_args={model_args}, task={task}, temperature={temperature}\")\n",
        "\n",
        "\n",
        "              # Execute the command\n",
        "              os.system(command)"
      ]
    },
    {
      "cell_type": "markdown",
      "metadata": {
        "id": "fHV8hSeaoDJQ"
      },
      "source": [
        "## B1. GSM8K Chain-of-Thought (8-shot) - Loop\n",
        "I think you still have to run each of these at least once without the loop for the install to work."
      ]
    },
    {
      "cell_type": "code",
      "execution_count": null,
      "metadata": {
        "id": "OB_ulN9zoDJR"
      },
      "outputs": [],
      "source": [
        "# Define parameters\n",
        "sampler = \"top_p\"\n",
        "sampler_values = [\"0.9\", \"0.95\"]  # Add as many sampler values as you want\n",
        "tasks = [\"gsm8k_cot_llama\"]\n",
        "model = \"vllm\"\n",
        "num_fewshot = \"8\"\n",
        "model_args_list = [\"meta-llama/Llama-3.2-1B-Instruct\", \"meta-llama/Llama-3.2-3B-Instruct\", \"meta-llama/Llama-3.1-8B-Instruct\"]  # Add different model args here\n",
        "temperature_values = [0, 0.5, 0.7, 1, 1.5, 2, 3, 4, 5]\n",
        "\n",
        "# Note that gsm8k_cot_llama with apply_chat_template and fewshot_as_multiturn are needed to replicate llama 3 Instruct benchmarks"
      ]
    },
    {
      "cell_type": "code",
      "execution_count": null,
      "metadata": {
        "id": "YtCCYYmRoDJR"
      },
      "outputs": [],
      "source": [
        "# Loop through each combination of model_args, task, sampler_value, and temperature\n",
        "for model_args in model_args_list:\n",
        "    for task in tasks:\n",
        "        for sampler_value in sampler_values:\n",
        "            for temperature in temperature_values:\n",
        "                # Construct the command as a single string\n",
        "                command = f\"\"\"\n",
        "                lm_eval \\\\\n",
        "                --model {model} \\\\\n",
        "                --model_args pretrained={model_args},dtype=auto \\\\\n",
        "                --batch_size auto \\\\\n",
        "                --tasks {task} \\\\\n",
        "                --num_fewshot {num_fewshot} \\\\\n",
        "                --apply_chat_template \\\\\n",
        "                --fewshot_as_multiturn \\\\\n",
        "                --log_samples \\\\\n",
        "                --output_path ./lm-eval-output/ \\\\\n",
        "                --gen_kwargs {sampler}={sampler_value},temperature={temperature},do_sample=True \\\\\n",
        "                --wandb_args project=lm-eval-harness-integration,name={task}_{sampler}_{sampler_value}_temp_{temperature}_{model}_{model_args.replace('/', '_')} \\\\\n",
        "                --device cuda\n",
        "                \"\"\"\n",
        "                print(f\"Running command with model_args={model_args}, task={task}, sampler_value={sampler_value}, temperature={temperature}\")\n",
        "\n",
        "\n",
        "                # Execute the command\n",
        "                os.system(command)"
      ]
    },
    {
      "cell_type": "markdown",
      "metadata": {
        "id": "JXI_Pcx7Yt74"
      },
      "source": [
        "##B2. GSM8K Chain-of-Thought (8-shot) (Self Consistency)\n",
        "We do not recommend running these unless you either have 50-100x the compute to run the previous evals, or lower the question limit to ~10 via `--limit 10 \\`."
      ]
    },
    {
      "cell_type": "code",
      "execution_count": null,
      "metadata": {
        "id": "cwLQg7oDd_Vd"
      },
      "outputs": [],
      "source": [
        "sampler = \"min _p\"\n",
        "sampler_value = \"0.1\"\n",
        "tasks = \"gsm8k_cot_self_consistency\"\n",
        "model = \"vllm\"\n",
        "num_fewshot = \"5\""
      ]
    },
    {
      "cell_type": "code",
      "execution_count": null,
      "metadata": {
        "id": "6V3y-8dTHmAi"
      },
      "outputs": [],
      "source": [
        "temperature = 1\n",
        "\n",
        "!lm_eval \\\n",
        "    --model {model} \\\n",
        "    --model_args pretrained=mistralai/Mistral-7B-v0.1,dtype=auto \\\n",
        "    --batch_size \"auto\" \\\n",
        "    --tasks {tasks} \\\n",
        "    --num_fewshot {num_fewshot} \\\n",
        "    --log_samples \\\n",
        "    --output_path ./lm-eval-output/ \\\n",
        "    --gen_kwargs {sampler}={sampler_value},temperature={temperature},do_sample=True \\\n",
        "    --limit 10 \\ #self-consistency can have a lot of runs, remove this at your peril\n",
        "    --wandb_args project=lm-eval-harness-integration,name={tasks}_{sampler}_{sampler_value}_temp_{temperature} \\\n",
        "    --device cuda\n"
      ]
    },
    {
      "cell_type": "markdown",
      "metadata": {
        "id": "P2PSZgKYZfCi"
      },
      "source": [
        "#Reference: EleutherAI Eval Harness task list\n",
        "For those curious to run other evals! Please note that Min P is currently only accessible for `generate_until` tasks. There is currently no easy way to index these tasks, I just Ctrl + F'd `generate_until` on the [EleutherAI Evals Harness Repo](https://github.com/EleutherAI/lm-evaluation-harness)."
      ]
    },
    {
      "cell_type": "code",
      "execution_count": null,
      "metadata": {
        "id": "x-RGcFC-PclJ"
      },
      "outputs": [],
      "source": [
        " !lm-eval --tasks list"
      ]
    },
    {
      "cell_type": "markdown",
      "metadata": {
        "id": "ddBZmkepVMvx"
      },
      "source": [
        "#Alternate: Git Clone Method for EleutherAI Evaluations Harness\n",
        "An alternate way to sometimes get around Evals Harness installation issues."
      ]
    },
    {
      "cell_type": "code",
      "execution_count": null,
      "metadata": {
        "id": "3Re0eppYizJ1"
      },
      "outputs": [],
      "source": [
        "%%capture\n",
        "!git clone https://github.com/EleutherAI/lm-evaluation-harness\n",
        "!pip install -e lm-evaluation-harness"
      ]
    }
  ],
  "metadata": {
    "accelerator": "GPU",
    "colab": {
      "gpuType": "A100",
      "machine_shape": "hm",
      "provenance": []
    },
    "kernelspec": {
      "display_name": "Python 3",
      "name": "python3"
    },
    "language_info": {
      "name": "python"
    }
  },
  "nbformat": 4,
  "nbformat_minor": 0
}